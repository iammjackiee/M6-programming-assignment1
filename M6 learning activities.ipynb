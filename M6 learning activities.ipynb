{
 "cells": [
  {
   "cell_type": "code",
   "execution_count": 6,
   "id": "a3c3f3b1-9b61-41e7-b913-dba2a253abc9",
   "metadata": {},
   "outputs": [
    {
     "name": "stdout",
     "output_type": "stream",
     "text": [
      "2025-10-06\n"
     ]
    }
   ],
   "source": [
    "from datetime import date, datetime\n",
    "\n",
    "today = date.today()\n",
    "with open(\"today.txt\", \"w\") as file:\n",
    "    file.write(str(today))\n",
    "\n",
    "with open(\"today.txt\", \"r\") as file:\n",
    "    today_string = file.read()\n",
    "\n",
    "parsed_date = datetime.strptime(today_string, \"%Y-%m-%d\").date()\n",
    "\n",
    "print(parsed_date)\n"
   ]
  },
  {
   "cell_type": "code",
   "execution_count": 11,
   "id": "9e150b96-d633-483c-a509-22a68a502029",
   "metadata": {},
   "outputs": [],
   "source": [
    "import multiprocessing\n",
    "import time\n",
    "import random\n",
    "from datetime import datetime\n",
    "import sys\n",
    "\n",
    "def show_time():\n",
    "    time.sleep(random.uniform(0, 1))\n",
    "    print(datetime.now())\n",
    "    sys.exit()\n",
    "\n",
    "if __name__ == '__main__':\n",
    "    p1 = multiprocessing.Process(target=show_time)\n",
    "    p2 = multiprocessing.Process(target=show_time)\n",
    "    p3 = multiprocessing.Process(target=show_time)\n",
    "\n",
    "    p1.start()\n",
    "    p2.start()\n",
    "    p3.start()\n",
    "\n",
    "    p1.join()\n",
    "    p2.join()\n",
    "    p3.join()\n",
    "\n"
   ]
  },
  {
   "cell_type": "code",
   "execution_count": null,
   "id": "112692da-3051-4a5b-9282-f4cf7d10808f",
   "metadata": {},
   "outputs": [],
   "source": []
  }
 ],
 "metadata": {
  "kernelspec": {
   "display_name": "Python [conda env:base] *",
   "language": "python",
   "name": "conda-base-py"
  },
  "language_info": {
   "codemirror_mode": {
    "name": "ipython",
    "version": 3
   },
   "file_extension": ".py",
   "mimetype": "text/x-python",
   "name": "python",
   "nbconvert_exporter": "python",
   "pygments_lexer": "ipython3",
   "version": "3.13.5"
  }
 },
 "nbformat": 4,
 "nbformat_minor": 5
}
